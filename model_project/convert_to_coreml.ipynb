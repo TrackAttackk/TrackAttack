{
 "cells": [
  {
   "cell_type": "code",
   "execution_count": 2,
   "id": "dd6de568-f30b-4086-94f6-e5cb6c8f9b9e",
   "metadata": {
    "tags": []
   },
   "outputs": [],
   "source": [
    "import coremltools as ct\n",
    "from tensorflow.keras.models import load_model"
   ]
  },
  {
   "cell_type": "code",
   "execution_count": 3,
   "id": "5b483669-2787-49bd-8ade-7366df4f79f6",
   "metadata": {
    "tags": []
   },
   "outputs": [],
   "source": [
    "model = load_model(r\"C:\\models\\heart_risk_model_tf3.h5\")"
   ]
  },
  {
   "cell_type": "code",
   "execution_count": 4,
   "id": "bf35ea57-5236-4b73-a1c2-e5472ee327ce",
   "metadata": {
    "tags": []
   },
   "outputs": [
    {
     "name": "stdout",
     "output_type": "stream",
     "text": [
      "['dense_input']\n"
     ]
    }
   ],
   "source": [
    "print(model.input_names)"
   ]
  },
  {
   "cell_type": "code",
   "execution_count": 5,
   "id": "d8de0ac0-7c5b-4b1d-899f-85b5949f4a0f",
   "metadata": {
    "tags": []
   },
   "outputs": [
    {
     "name": "stderr",
     "output_type": "stream",
     "text": [
      "Running TensorFlow Graph Passes: 100%|██████████| 6/6 [00:00<00:00, 20.44 passes/s]\n",
      "Converting TF Frontend ==> MIL Ops: 100%|██████████| 17/17 [00:00<00:00, 940.85 ops/s]\n",
      "Running MIL frontend_tensorflow2 pipeline: 100%|██████████| 7/7 [00:00<?, ? passes/s]\n",
      "Running MIL default pipeline: 100%|██████████| 69/69 [00:00<00:00, 1159.43 passes/s]\n",
      "Running MIL backend_neuralnetwork pipeline: 100%|██████████| 9/9 [00:00<00:00, 1066.56 passes/s]\n",
      "Translating MIL ==> NeuralNetwork Ops: 100%|██████████| 13/13 [00:00<00:00, 1601.44 ops/s]\n"
     ]
    }
   ],
   "source": [
    "# Core ML modeline çevir\n",
    "mlmodel = ct.convert(\n",
    "    model,\n",
    "    inputs=[ct.TensorType(shape=(1,10), name=\"dense_input\")],  # feature sayısı = 10\n",
    "    minimum_deployment_target=ct.target.iOS14  # eski cihazlarda da çalışması için\n",
    ")"
   ]
  },
  {
   "cell_type": "code",
   "execution_count": 6,
   "id": "199b20b5-66bb-4108-ae5a-9f13bb421073",
   "metadata": {
    "tags": []
   },
   "outputs": [
    {
     "name": "stdout",
     "output_type": "stream",
     "text": [
      "Core ML modeli başarıyla kaydedildi!\n"
     ]
    }
   ],
   "source": [
    "mlmodel.save(r\"C:/models/HeartRiskPredictorTF3.mlmodel\")\n",
    "print(\"Core ML modeli başarıyla kaydedildi!\")"
   ]
  },
  {
   "cell_type": "code",
   "execution_count": null,
   "id": "0f9a1c63-9969-4b4c-ae11-32391ecd897a",
   "metadata": {},
   "outputs": [],
   "source": []
  }
 ],
 "metadata": {
  "kernelspec": {
   "display_name": "Python 3 (ipykernel)",
   "language": "python",
   "name": "python3"
  },
  "language_info": {
   "codemirror_mode": {
    "name": "ipython",
    "version": 3
   },
   "file_extension": ".py",
   "mimetype": "text/x-python",
   "name": "python",
   "nbconvert_exporter": "python",
   "pygments_lexer": "ipython3",
   "version": "3.11.3"
  }
 },
 "nbformat": 4,
 "nbformat_minor": 5
}
