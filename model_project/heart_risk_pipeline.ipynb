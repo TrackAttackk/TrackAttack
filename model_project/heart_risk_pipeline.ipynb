{
 "cells": [
  {
   "cell_type": "code",
   "execution_count": 1,
   "id": "2424f8d6-002e-4df7-a82f-3f36f20ef8d2",
   "metadata": {
    "tags": []
   },
   "outputs": [],
   "source": [
    "from sklearn.model_selection import train_test_split\n",
    "from sklearn.preprocessing import StandardScaler\n",
    "import numpy as np\n",
    "import pandas as pd\n",
    "import tensorflow as tf\n",
    "import joblib\n",
    "import os"
   ]
  },
  {
   "cell_type": "markdown",
   "id": "1d9836a4-1b73-4e4d-87ba-d03ab58120a0",
   "metadata": {},
   "source": [
    "### Data Preprocessing"
   ]
  },
  {
   "cell_type": "code",
   "execution_count": 2,
   "id": "86430b18-43c1-4cee-8758-3bc300aa5e11",
   "metadata": {
    "tags": []
   },
   "outputs": [],
   "source": [
    "df = pd.read_csv(\"applewatch_heart_risk_3class.csv\")"
   ]
  },
  {
   "cell_type": "markdown",
   "id": "1dd3fea0-516a-4a03-a6b2-dcb7dd17d02d",
   "metadata": {},
   "source": [
    "- age : Kullanıcının yaşı | Numeric (int)\n",
    "- gender : Cinsiyet | 0 = Erkek (Male), 1 = Kadın (Female) | Categorical (0/1)\n",
    "- smoking : Sigara içiyor mu | 0 = Hayır, 1 = Evet | Binary (0/1)\n",
    "- familyHistory : Ailede kalp hastalığı var mı | 0: Hayır 1: Evet | Binary (0/1)\n",
    "- pastAttacks : Geçmiş çarpıntı veya atak sayısı | Numeric (int)\n",
    "- heartRateAvg : Günlük ölçülen ortalama kalp atış hızı (bpm) | Numeric (int)\n",
    "- restingHeartRate : Dinlenme halindeki kalp atış hızı (bpm) | Numeric (int)\n",
    "- steps : Günlük adım sayısı | Numeric (int)\n",
    "- sleepHours : Günlük uyku süresi (saat) | Numeric (float)\n",
    "- exerciseMinutes : Günlük egzersiz süresi (dakika) | Numeric (int)\n",
    "- risk : Hedef değişken,kalp riski | 0 = düşük risk, 1 = orta risk, 2 = yüksek risk"
   ]
  },
  {
   "cell_type": "code",
   "execution_count": 3,
   "id": "f500168c-271e-4780-9ab0-0ccb88ae00d7",
   "metadata": {
    "tags": []
   },
   "outputs": [
    {
     "name": "stdout",
     "output_type": "stream",
     "text": [
      "   age gender  heartRateAvg  restingHeartRate  steps  sleepHours  \\\n",
      "0   53      F           107                82   5144         6.7   \n",
      "1   63      F           112                92   2676         4.4   \n",
      "2   44      F            61                55   6761         8.7   \n",
      "3   84      M           139               112   3404         5.4   \n",
      "4   45      M           105                81   2199         6.9   \n",
      "\n",
      "   exerciseMinutes  pastAttacks  smoking  familyHistory  risk  \n",
      "0               44            1        0              0     1  \n",
      "1               20            3        0              1     2  \n",
      "2               59            0        0              1     0  \n",
      "3                9            4        1              0     2  \n",
      "4               27            2        1              1     1  \n"
     ]
    }
   ],
   "source": [
    "print(df.head())"
   ]
  },
  {
   "cell_type": "code",
   "execution_count": 4,
   "id": "4d384572-9895-4349-96fb-b8674a627423",
   "metadata": {
    "tags": []
   },
   "outputs": [
    {
     "name": "stdout",
     "output_type": "stream",
     "text": [
      "<class 'pandas.core.frame.DataFrame'>\n",
      "RangeIndex: 9999 entries, 0 to 9998\n",
      "Data columns (total 11 columns):\n",
      " #   Column            Non-Null Count  Dtype  \n",
      "---  ------            --------------  -----  \n",
      " 0   age               9999 non-null   int64  \n",
      " 1   gender            9999 non-null   object \n",
      " 2   heartRateAvg      9999 non-null   int64  \n",
      " 3   restingHeartRate  9999 non-null   int64  \n",
      " 4   steps             9999 non-null   int64  \n",
      " 5   sleepHours        9999 non-null   float64\n",
      " 6   exerciseMinutes   9999 non-null   int64  \n",
      " 7   pastAttacks       9999 non-null   int64  \n",
      " 8   smoking           9999 non-null   int64  \n",
      " 9   familyHistory     9999 non-null   int64  \n",
      " 10  risk              9999 non-null   int64  \n",
      "dtypes: float64(1), int64(9), object(1)\n",
      "memory usage: 859.4+ KB\n",
      "None\n"
     ]
    }
   ],
   "source": [
    "# Veri tipi kontrolü\n",
    "print(df.info())"
   ]
  },
  {
   "cell_type": "code",
   "execution_count": 5,
   "id": "4101c6da-2c75-4008-9c14-712c337a5265",
   "metadata": {
    "tags": []
   },
   "outputs": [
    {
     "name": "stdout",
     "output_type": "stream",
     "text": [
      "age                 0\n",
      "gender              0\n",
      "heartRateAvg        0\n",
      "restingHeartRate    0\n",
      "steps               0\n",
      "sleepHours          0\n",
      "exerciseMinutes     0\n",
      "pastAttacks         0\n",
      "smoking             0\n",
      "familyHistory       0\n",
      "risk                0\n",
      "dtype: int64\n"
     ]
    }
   ],
   "source": [
    "# Eksik değer kontrolü\n",
    "print(df.isnull().sum())"
   ]
  },
  {
   "cell_type": "code",
   "execution_count": 6,
   "id": "dd64afc6-f77b-4dd5-9752-647aa2bfe571",
   "metadata": {
    "tags": []
   },
   "outputs": [],
   "source": [
    "# Encode Categorical Features - Kategorik Verileri Sayısallaştırma\n",
    "# gender: 0 = Male, 1 = Female\n",
    "df[\"gender\"] = df[\"gender\"].map({\"M\": 0, \"F\": 1})"
   ]
  },
  {
   "cell_type": "code",
   "execution_count": 7,
   "id": "70acf705-28af-4650-adc3-921769d8389f",
   "metadata": {
    "tags": []
   },
   "outputs": [],
   "source": [
    "# Aykırı değerleri sınırlandırır - Clip Outliers\n",
    "clip_limits = {\n",
    "    \"age\": (18, 90),\n",
    "    \"heartRateAvg\": (50, 180),\n",
    "    \"restingHeartRate\": (40, 140),\n",
    "    \"steps\": (0, 20000),\n",
    "    \"exerciseMinutes\": (0, 120),\n",
    "    \"sleepHours\": (3, 12),\n",
    "    \"pastAttacks\": (0, 10)\n",
    "}\n",
    "\n",
    "for col, (min_val, max_val) in clip_limits.items():\n",
    "    df[col] = df[col].clip(lower=min_val, upper=max_val)"
   ]
  },
  {
   "cell_type": "code",
   "execution_count": 8,
   "id": "a1dc2c87-8239-472f-aac8-d3a7d390b192",
   "metadata": {
    "tags": []
   },
   "outputs": [],
   "source": [
    "X = df.drop(\"risk\", axis=1)   # features\n",
    "y = df[\"risk\"]                # label"
   ]
  },
  {
   "cell_type": "code",
   "execution_count": 9,
   "id": "ed3e7763-aaeb-4fee-9d2c-63deacfe15b9",
   "metadata": {
    "tags": []
   },
   "outputs": [
    {
     "name": "stdout",
     "output_type": "stream",
     "text": [
      "Risk sınıfları dağılımı:\n",
      " 1    3333\n",
      "2    3333\n",
      "0    3333\n",
      "Name: risk, dtype: int64\n"
     ]
    }
   ],
   "source": [
    "print(\"Risk sınıfları dağılımı:\\n\", y.value_counts())"
   ]
  },
  {
   "cell_type": "code",
   "execution_count": 10,
   "id": "63ffb923-1d0b-451d-9c63-a087111da272",
   "metadata": {
    "tags": []
   },
   "outputs": [],
   "source": [
    "X_train, X_test, y_train, y_test = train_test_split(X, y, test_size=0.2, random_state=42, stratify=y)"
   ]
  },
  {
   "cell_type": "code",
   "execution_count": 11,
   "id": "bfe00360-d934-4068-b8ed-b774546854c4",
   "metadata": {
    "tags": []
   },
   "outputs": [],
   "source": [
    "# Standard Scaler\n",
    "scaler = StandardScaler()\n",
    "X_train_scaled = scaler.fit_transform(X_train)\n",
    "X_test_scaled = scaler.transform(X_test)"
   ]
  },
  {
   "cell_type": "code",
   "execution_count": 12,
   "id": "7f484f61-bb33-4ecf-96bf-bc723c81eeb9",
   "metadata": {
    "tags": []
   },
   "outputs": [
    {
     "data": {
      "text/plain": [
       "['heart_risk_scaler.pkl']"
      ]
     },
     "execution_count": 12,
     "metadata": {},
     "output_type": "execute_result"
    }
   ],
   "source": [
    "# Scaler'ı kaydeder\n",
    "joblib.dump(scaler, \"heart_risk_scaler.pkl\")"
   ]
  },
  {
   "cell_type": "code",
   "execution_count": 13,
   "id": "a2bd56b4-b821-40f3-a7cd-6e6acb31c587",
   "metadata": {
    "tags": []
   },
   "outputs": [],
   "source": [
    "# Save processed dataset to CSV\n",
    "pd.DataFrame(X_train_scaled, columns=X_train.columns).to_csv(\"X_train_scaled.csv\", index=False)\n",
    "pd.DataFrame(X_test_scaled, columns=X_test.columns).to_csv(\"X_test_scaled.csv\", index=False)"
   ]
  },
  {
   "cell_type": "code",
   "execution_count": 15,
   "id": "158f6e45-6061-421a-b1a3-73675fbf0731",
   "metadata": {
    "tags": []
   },
   "outputs": [
    {
     "name": "stdout",
     "output_type": "stream",
     "text": [
      "Eğitim verisi boyutu: (7999, 10)\n",
      "Test verisi boyutu: (2000, 10)\n",
      "Eğitim hedef sınıf dağılımı: {0: 2667, 2: 2666, 1: 2666}\n",
      "Test hedef sınıf dağılımı: {2: 667, 1: 667, 0: 666}\n"
     ]
    }
   ],
   "source": [
    "print(\"Eğitim verisi boyutu:\", X_train_scaled.shape)\n",
    "print(\"Test verisi boyutu:\", X_test_scaled.shape)\n",
    "print(\"Eğitim hedef sınıf dağılımı:\", y_train.value_counts().to_dict())\n",
    "print(\"Test hedef sınıf dağılımı:\", y_test.value_counts().to_dict())"
   ]
  },
  {
   "cell_type": "markdown",
   "id": "e64ff117-d162-4824-a5a8-90b660857382",
   "metadata": {},
   "source": [
    "### Train TensorFlow Model"
   ]
  },
  {
   "cell_type": "code",
   "execution_count": 16,
   "id": "ed77a543-f801-4139-abd8-de78b59583f9",
   "metadata": {
    "tags": []
   },
   "outputs": [],
   "source": [
    "# TensorFlow Model\n",
    "model = tf.keras.Sequential([\n",
    "    tf.keras.layers.Dense(32, activation='relu', input_shape=(X_train_scaled.shape[1],)),\n",
    "    tf.keras.layers.Dense(16, activation='relu'),\n",
    "    tf.keras.layers.Dense(3, activation='softmax')  # 3 sınıf: düşük/orta/yüksek\n",
    "])"
   ]
  },
  {
   "cell_type": "code",
   "execution_count": 17,
   "id": "38da085e-5723-43a0-9931-6faa70106ab0",
   "metadata": {
    "tags": []
   },
   "outputs": [],
   "source": [
    "model.compile(\n",
    "    optimizer='adam',\n",
    "    loss='sparse_categorical_crossentropy',\n",
    "    metrics=['accuracy']\n",
    ")"
   ]
  },
  {
   "cell_type": "code",
   "execution_count": 18,
   "id": "8c5435a1-e044-4820-8e38-3af6baa77f43",
   "metadata": {
    "tags": []
   },
   "outputs": [],
   "source": [
    "callback = tf.keras.callbacks.EarlyStopping(\n",
    "    monitor='val_loss', patience=10, restore_best_weights=True\n",
    ")"
   ]
  },
  {
   "cell_type": "code",
   "execution_count": 19,
   "id": "7ccbfa0b-4a12-4013-b39b-d21e4d6e4758",
   "metadata": {
    "tags": []
   },
   "outputs": [
    {
     "name": "stdout",
     "output_type": "stream",
     "text": [
      "Epoch 1/100\n",
      "250/250 [==============================] - 2s 3ms/step - loss: 0.3583 - accuracy: 0.8830 - val_loss: 0.0729 - val_accuracy: 0.9915\n",
      "Epoch 2/100\n",
      "250/250 [==============================] - 1s 3ms/step - loss: 0.0345 - accuracy: 0.9980 - val_loss: 0.0193 - val_accuracy: 0.9985\n",
      "Epoch 3/100\n",
      "250/250 [==============================] - 1s 3ms/step - loss: 0.0123 - accuracy: 0.9991 - val_loss: 0.0103 - val_accuracy: 0.9990\n",
      "Epoch 4/100\n",
      "250/250 [==============================] - 1s 2ms/step - loss: 0.0070 - accuracy: 0.9996 - val_loss: 0.0068 - val_accuracy: 0.9990\n",
      "Epoch 5/100\n",
      "250/250 [==============================] - 1s 3ms/step - loss: 0.0048 - accuracy: 0.9997 - val_loss: 0.0056 - val_accuracy: 0.9995\n",
      "Epoch 6/100\n",
      "250/250 [==============================] - 0s 2ms/step - loss: 0.0036 - accuracy: 0.9999 - val_loss: 0.0042 - val_accuracy: 0.9990\n",
      "Epoch 7/100\n",
      "250/250 [==============================] - 1s 2ms/step - loss: 0.0029 - accuracy: 0.9997 - val_loss: 0.0041 - val_accuracy: 0.9990\n",
      "Epoch 8/100\n",
      "250/250 [==============================] - 0s 2ms/step - loss: 0.0024 - accuracy: 0.9997 - val_loss: 0.0031 - val_accuracy: 0.9995\n",
      "Epoch 9/100\n",
      "250/250 [==============================] - 1s 2ms/step - loss: 0.0020 - accuracy: 0.9999 - val_loss: 0.0026 - val_accuracy: 1.0000\n",
      "Epoch 10/100\n",
      "250/250 [==============================] - 1s 2ms/step - loss: 0.0017 - accuracy: 0.9999 - val_loss: 0.0032 - val_accuracy: 0.9995\n",
      "Epoch 11/100\n",
      "250/250 [==============================] - 1s 3ms/step - loss: 0.0017 - accuracy: 0.9999 - val_loss: 0.0019 - val_accuracy: 1.0000\n",
      "Epoch 12/100\n",
      "250/250 [==============================] - 1s 2ms/step - loss: 0.0013 - accuracy: 0.9996 - val_loss: 0.0019 - val_accuracy: 0.9995\n",
      "Epoch 13/100\n",
      "250/250 [==============================] - 1s 2ms/step - loss: 0.0013 - accuracy: 0.9997 - val_loss: 0.0018 - val_accuracy: 0.9995\n",
      "Epoch 14/100\n",
      "250/250 [==============================] - 1s 2ms/step - loss: 0.0011 - accuracy: 0.9999 - val_loss: 0.0016 - val_accuracy: 1.0000\n",
      "Epoch 15/100\n",
      "250/250 [==============================] - 1s 2ms/step - loss: 9.4330e-04 - accuracy: 0.9999 - val_loss: 0.0026 - val_accuracy: 0.9985\n",
      "Epoch 16/100\n",
      "250/250 [==============================] - 1s 3ms/step - loss: 9.4851e-04 - accuracy: 0.9999 - val_loss: 0.0013 - val_accuracy: 1.0000\n",
      "Epoch 17/100\n",
      "250/250 [==============================] - 1s 3ms/step - loss: 8.6964e-04 - accuracy: 0.9997 - val_loss: 0.0013 - val_accuracy: 0.9995\n",
      "Epoch 18/100\n",
      "250/250 [==============================] - 1s 3ms/step - loss: 7.7284e-04 - accuracy: 0.9999 - val_loss: 0.0013 - val_accuracy: 0.9995\n",
      "Epoch 19/100\n",
      "250/250 [==============================] - 1s 3ms/step - loss: 6.5983e-04 - accuracy: 0.9999 - val_loss: 0.0011 - val_accuracy: 1.0000\n",
      "Epoch 20/100\n",
      "250/250 [==============================] - 1s 3ms/step - loss: 6.1626e-04 - accuracy: 0.9999 - val_loss: 0.0014 - val_accuracy: 0.9995\n",
      "Epoch 21/100\n",
      "250/250 [==============================] - 1s 3ms/step - loss: 6.4513e-04 - accuracy: 0.9999 - val_loss: 0.0010 - val_accuracy: 1.0000\n",
      "Epoch 22/100\n",
      "250/250 [==============================] - 1s 3ms/step - loss: 5.9141e-04 - accuracy: 0.9999 - val_loss: 0.0010 - val_accuracy: 0.9995\n",
      "Epoch 23/100\n",
      "250/250 [==============================] - 1s 3ms/step - loss: 5.2265e-04 - accuracy: 0.9997 - val_loss: 9.2495e-04 - val_accuracy: 1.0000\n",
      "Epoch 24/100\n",
      "250/250 [==============================] - 1s 3ms/step - loss: 4.8740e-04 - accuracy: 0.9999 - val_loss: 9.4701e-04 - val_accuracy: 1.0000\n",
      "Epoch 25/100\n",
      "250/250 [==============================] - 0s 2ms/step - loss: 4.4341e-04 - accuracy: 0.9999 - val_loss: 0.0010 - val_accuracy: 1.0000\n",
      "Epoch 26/100\n",
      "250/250 [==============================] - 0s 2ms/step - loss: 4.2980e-04 - accuracy: 0.9999 - val_loss: 8.2539e-04 - val_accuracy: 1.0000\n",
      "Epoch 27/100\n",
      "250/250 [==============================] - 1s 2ms/step - loss: 3.3446e-04 - accuracy: 0.9999 - val_loss: 0.0033 - val_accuracy: 0.9975\n",
      "Epoch 28/100\n",
      "250/250 [==============================] - 1s 2ms/step - loss: 3.8843e-04 - accuracy: 1.0000 - val_loss: 8.4096e-04 - val_accuracy: 1.0000\n",
      "Epoch 29/100\n",
      "250/250 [==============================] - 1s 2ms/step - loss: 3.1712e-04 - accuracy: 0.9999 - val_loss: 0.0011 - val_accuracy: 1.0000\n",
      "Epoch 30/100\n",
      "250/250 [==============================] - 1s 2ms/step - loss: 6.1727e-04 - accuracy: 0.9997 - val_loss: 8.5988e-04 - val_accuracy: 1.0000\n",
      "Epoch 31/100\n",
      "250/250 [==============================] - 0s 2ms/step - loss: 3.2171e-04 - accuracy: 1.0000 - val_loss: 7.4177e-04 - val_accuracy: 1.0000\n",
      "Epoch 32/100\n",
      "250/250 [==============================] - 1s 2ms/step - loss: 2.8308e-04 - accuracy: 1.0000 - val_loss: 6.0925e-04 - val_accuracy: 1.0000\n",
      "Epoch 33/100\n",
      "250/250 [==============================] - 0s 2ms/step - loss: 1.7715e-04 - accuracy: 1.0000 - val_loss: 6.1647e-04 - val_accuracy: 1.0000\n",
      "Epoch 34/100\n",
      "250/250 [==============================] - 0s 2ms/step - loss: 2.6826e-04 - accuracy: 1.0000 - val_loss: 6.7226e-04 - val_accuracy: 1.0000\n",
      "Epoch 35/100\n",
      "250/250 [==============================] - 1s 2ms/step - loss: 1.6593e-04 - accuracy: 1.0000 - val_loss: 0.0011 - val_accuracy: 0.9995\n",
      "Epoch 36/100\n",
      "250/250 [==============================] - 1s 3ms/step - loss: 2.2010e-04 - accuracy: 1.0000 - val_loss: 9.4497e-04 - val_accuracy: 0.9995\n",
      "Epoch 37/100\n",
      "250/250 [==============================] - 1s 2ms/step - loss: 1.7803e-04 - accuracy: 1.0000 - val_loss: 7.6587e-04 - val_accuracy: 0.9995\n",
      "Epoch 38/100\n",
      "250/250 [==============================] - 1s 3ms/step - loss: 2.0477e-04 - accuracy: 1.0000 - val_loss: 0.0013 - val_accuracy: 0.9995\n",
      "Epoch 39/100\n",
      "250/250 [==============================] - 1s 2ms/step - loss: 5.6417e-04 - accuracy: 0.9999 - val_loss: 0.0017 - val_accuracy: 0.9990\n",
      "Epoch 40/100\n",
      "250/250 [==============================] - 0s 2ms/step - loss: 1.6146e-04 - accuracy: 1.0000 - val_loss: 0.0012 - val_accuracy: 0.9995\n",
      "Epoch 41/100\n",
      "250/250 [==============================] - 1s 2ms/step - loss: 1.6522e-04 - accuracy: 1.0000 - val_loss: 8.9411e-04 - val_accuracy: 0.9995\n",
      "Epoch 42/100\n",
      "250/250 [==============================] - 1s 3ms/step - loss: 8.5500e-05 - accuracy: 1.0000 - val_loss: 9.5097e-04 - val_accuracy: 0.9995\n"
     ]
    }
   ],
   "source": [
    "history = model.fit(\n",
    "    X_train_scaled, y_train,\n",
    "    validation_data=(X_test_scaled, y_test),\n",
    "    epochs=100,\n",
    "    batch_size=32,\n",
    "    callbacks=[callback]\n",
    ")"
   ]
  },
  {
   "cell_type": "code",
   "execution_count": 20,
   "id": "0e4a66b4-c648-48c9-ad14-06003465867b",
   "metadata": {
    "tags": []
   },
   "outputs": [
    {
     "name": "stdout",
     "output_type": "stream",
     "text": [
      "63/63 [==============================] - 0s 2ms/step - loss: 6.0925e-04 - accuracy: 1.0000\n",
      "Test Loss: 0.0006, Test Accuracy: 1.0000\n"
     ]
    }
   ],
   "source": [
    "# Model Evaluation\n",
    "loss, acc = model.evaluate(X_test_scaled, y_test)\n",
    "print(f\"Test Loss: {loss:.4f}, Test Accuracy: {acc:.4f}\")"
   ]
  },
  {
   "cell_type": "markdown",
   "id": "1a3cc6f7-363b-41b0-941f-d6fc97f21b4c",
   "metadata": {},
   "source": [
    "- Klasör yoksa oluştururuz ve modeli oraya kaydediriz."
   ]
  },
  {
   "cell_type": "code",
   "execution_count": 21,
   "id": "d466fc21-d25c-47dd-92a4-fd8a8cf61a12",
   "metadata": {
    "tags": []
   },
   "outputs": [],
   "source": [
    "os.makedirs(r\"C:\\models\", exist_ok=True)"
   ]
  },
  {
   "cell_type": "code",
   "execution_count": 22,
   "id": "622f2eee-6832-4d7e-a8dc-0d183c4fe1bf",
   "metadata": {
    "tags": []
   },
   "outputs": [
    {
     "name": "stdout",
     "output_type": "stream",
     "text": [
      "TensorFlow model saved!\n"
     ]
    }
   ],
   "source": [
    "model.save(r\"C:\\models\\heart_risk_model_tf3.h5\")\n",
    "print(\"TensorFlow model saved!\")"
   ]
  },
  {
   "cell_type": "code",
   "execution_count": 26,
   "id": "a169adbb-3e8f-4301-bde2-16459347f6de",
   "metadata": {
    "tags": []
   },
   "outputs": [
    {
     "name": "stdout",
     "output_type": "stream",
     "text": [
      "SWIFT İÇİN SCALER DEĞERLERİ:\n",
      "========================================\n",
      "let scalerMean: [Float] = [52.437305, 0.493687, 100.737717, 82.024503, 4341.052507, 6.494724, 33.539567, 1.823103, 0.411551, 0.469559]\n",
      "let scalerStd: [Float] = [19.475188, 0.499960, 22.777984, 17.156535, 2526.834910, 1.319431, 22.937767, 1.453479, 0.492115, 0.499072]\n",
      "\n",
      "\n",
      "KONTROL İÇİN AYNI VERİYLE TEST:\n",
      "========================================\n"
     ]
    },
    {
     "name": "stdin",
     "output_type": "stream",
     "text": [
      "Test için Swift'te girdiğiniz değerleri virgülle ayırarak girin (örn: 75,0,120,95,2000,5.0,10,4,1,1):  75,0,120,95,2000,5.0,10,4,1,1\n"
     ]
    },
    {
     "name": "stdout",
     "output_type": "stream",
     "text": [
      "\n",
      "Girdi değerleri: [75.0, 0.0, 120.0, 95.0, 2000.0, 5.0, 10.0, 4.0, 1.0, 1.0]\n",
      "Scaled değerler: [ 1.15853543 -0.98745214  0.84565353  0.75630055 -0.92647624 -1.13285554\n",
      " -1.02623621  1.49771516  1.19575495  1.06285428]\n",
      "1/1 [==============================] - 0s 29ms/step\n",
      "Prediction probabilities: [9.1210510e-18 8.7246776e-10 1.0000000e+00]\n",
      "Predicted class: 2 -> High Risk\n",
      "\n",
      "Swift için manuel scale kontrolü:\n",
      "Feature 0: 75.0 -> ((75.0 - 52.437305) / 19.475188) = 1.158535\n",
      "Feature 1: 0.0 -> ((0.0 - 0.493687) / 0.499960) = -0.987452\n",
      "Feature 2: 120.0 -> ((120.0 - 100.737717) / 22.777984) = 0.845654\n",
      "Feature 3: 95.0 -> ((95.0 - 82.024503) / 17.156535) = 0.756301\n",
      "Feature 4: 2000.0 -> ((2000.0 - 4341.052507) / 2526.834910) = -0.926476\n",
      "Feature 5: 5.0 -> ((5.0 - 6.494724) / 1.319431) = -1.132856\n",
      "Feature 6: 10.0 -> ((10.0 - 33.539567) / 22.937767) = -1.026236\n",
      "Feature 7: 4.0 -> ((4.0 - 1.823103) / 1.453479) = 1.497715\n",
      "Feature 8: 1.0 -> ((1.0 - 0.411551) / 0.492115) = 1.195755\n",
      "Feature 9: 1.0 -> ((1.0 - 0.469559) / 0.499072) = 1.062854\n"
     ]
    }
   ],
   "source": [
    "print(\"SWIFT İÇİN SCALER DEĞERLERİ:\")\n",
    "print(\"=\"*40)\n",
    "\n",
    "print(\"let scalerMean: [Float] = [\", end=\"\")\n",
    "for i, mean_val in enumerate(scaler.mean_):\n",
    "    if i > 0:\n",
    "        print(\", \", end=\"\")\n",
    "    print(f\"{mean_val:.6f}\", end=\"\")\n",
    "print(\"]\")\n",
    "\n",
    "print(\"let scalerStd: [Float] = [\", end=\"\")\n",
    "for i, std_val in enumerate(scaler.scale_):\n",
    "    if i > 0:\n",
    "        print(\", \", end=\"\")\n",
    "    print(f\"{std_val:.6f}\", end=\"\")\n",
    "print(\"]\")\n",
    "\n",
    "print(\"\\n\\nKONTROL İÇİN AYNI VERİYLE TEST:\")\n",
    "print(\"=\"*40)\n",
    "\n",
    "# Aynı veriyle test (Swift'te girdiğimiz değerlerle)\n",
    "test_input = input(\"Test için Swift'te girdiğiniz değerleri virgülle ayırarak girin (örn: 75,0,120,95,2000,5.0,10,4,1,1): \")\n",
    "values = [float(x.strip()) for x in test_input.split(',')]\n",
    "\n",
    "test_df = pd.DataFrame([values], columns=[\"age\",\"gender\",\"heartRateAvg\",\"restingHeartRate\",\n",
    "                                        \"steps\",\"sleepHours\",\"exerciseMinutes\",\n",
    "                                        \"pastAttacks\",\"smoking\",\"familyHistory\"])\n",
    "\n",
    "print(f\"\\nGirdi değerleri: {values}\")\n",
    "\n",
    "# Scale ederiz\n",
    "test_scaled = scaler.transform(test_df)\n",
    "print(f\"Scaled değerler: {test_scaled[0]}\")\n",
    "\n",
    "# Predict ederiz\n",
    "pred_prob = model.predict(test_scaled)[0]\n",
    "pred_class = np.argmax(pred_prob)\n",
    "\n",
    "print(f\"Prediction probabilities: {pred_prob}\")\n",
    "print(f\"Predicted class: {pred_class} -> {['Low Risk', 'Medium Risk', 'High Risk'][pred_class]}\")\n",
    "\n",
    "# Swift için scaled değerleri de veririz\n",
    "print(f\"\\nSwift için manuel scale kontrolü:\")\n",
    "for i, (orig, scaled) in enumerate(zip(values, test_scaled[0])):\n",
    "    print(f\"Feature {i}: {orig} -> (({orig} - {scaler.mean_[i]:.6f}) / {scaler.scale_[i]:.6f}) = {scaled:.6f}\")"
   ]
  },
  {
   "cell_type": "code",
   "execution_count": null,
   "id": "6d8a3f0a-b8b1-49ea-b0a6-9f4fb8f0295b",
   "metadata": {},
   "outputs": [],
   "source": []
  }
 ],
 "metadata": {
  "kernelspec": {
   "display_name": "Python 3 (ipykernel)",
   "language": "python",
   "name": "python3"
  },
  "language_info": {
   "codemirror_mode": {
    "name": "ipython",
    "version": 3
   },
   "file_extension": ".py",
   "mimetype": "text/x-python",
   "name": "python",
   "nbconvert_exporter": "python",
   "pygments_lexer": "ipython3",
   "version": "3.11.3"
  }
 },
 "nbformat": 4,
 "nbformat_minor": 5
}
