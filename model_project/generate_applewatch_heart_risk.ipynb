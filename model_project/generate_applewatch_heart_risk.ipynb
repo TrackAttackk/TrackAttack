{
 "cells": [
  {
   "cell_type": "code",
   "execution_count": 1,
   "id": "91723661-b166-40f0-b8d1-3820e2151247",
   "metadata": {
    "tags": []
   },
   "outputs": [],
   "source": [
    "import pandas as pd\n",
    "import numpy as np"
   ]
  },
  {
   "cell_type": "code",
   "execution_count": 2,
   "id": "c103a90b-d369-47ae-9bdb-48cafb0b056c",
   "metadata": {
    "tags": []
   },
   "outputs": [],
   "source": [
    "def generate_realistic_balanced_dataset(size=10000):\n",
    "    per_class = size // 3\n",
    "    data = []\n",
    "\n",
    "    for risk_label in [0, 1, 2]:\n",
    "        for _ in range(per_class):\n",
    "            # Yaş\n",
    "            if risk_label == 0:\n",
    "                age = np.random.randint(18, 45)\n",
    "            elif risk_label == 1:\n",
    "                age = np.random.randint(40, 65)\n",
    "            else:\n",
    "                age = np.random.randint(60, 90)\n",
    "            \n",
    "            # Cinsiyet\n",
    "            gender = np.random.choice([\"M\", \"F\"])\n",
    "            \n",
    "            # Sigara & Aile geçmişi (olasılıklı)\n",
    "            if risk_label == 0:\n",
    "                smoking = np.random.choice([0,1], p=[0.85,0.15])\n",
    "                familyHistory = np.random.choice([0,1], p=[0.8,0.2])\n",
    "            elif risk_label == 1:\n",
    "                smoking = np.random.choice([0,1], p=[0.6,0.4])\n",
    "                familyHistory = np.random.choice([0,1], p=[0.5,0.5])\n",
    "            else:\n",
    "                smoking = np.random.choice([0,1], p=[0.3,0.7])\n",
    "                familyHistory = np.random.choice([0,1], p=[0.3,0.7])\n",
    "\n",
    "            # Egzersiz ve adım sayısı korelasyonu\n",
    "            if risk_label == 0:\n",
    "                exerciseMinutes = np.random.randint(30, 90)\n",
    "                steps = int(np.random.normal(exerciseMinutes*120, 500))\n",
    "            elif risk_label == 1:\n",
    "                exerciseMinutes = np.random.randint(15, 45)\n",
    "                steps = int(np.random.normal(exerciseMinutes*100, 1000))\n",
    "            else:\n",
    "                exerciseMinutes = np.random.randint(0, 25)\n",
    "                steps = int(np.random.normal(exerciseMinutes*80 + 2000, 1000))\n",
    "\n",
    "            # Uyku\n",
    "            if risk_label == 0:\n",
    "                sleepHours = round(np.random.uniform(7, 9),1)\n",
    "            elif risk_label == 1:\n",
    "                sleepHours = round(np.random.uniform(6, 7),1)\n",
    "            else:\n",
    "                sleepHours = round(np.random.uniform(4, 6),1)\n",
    "\n",
    "            # Dinlenme ve ortalama nabız (riskle korelasyonlu)\n",
    "            if risk_label == 0:\n",
    "                restingHeartRate = np.random.randint(55, 75)\n",
    "                heartRateAvg = restingHeartRate + np.random.randint(5,20)\n",
    "            elif risk_label == 1:\n",
    "                restingHeartRate = np.random.randint(70, 90)\n",
    "                heartRateAvg = restingHeartRate + np.random.randint(10,30)\n",
    "            else:\n",
    "                restingHeartRate = np.random.randint(85, 120)\n",
    "                heartRateAvg = restingHeartRate + np.random.randint(10,40)\n",
    "\n",
    "            # Geçmiş ataklar\n",
    "            if risk_label == 0:\n",
    "                pastAttacks = np.random.randint(0,2)\n",
    "            elif risk_label == 1:\n",
    "                pastAttacks = np.random.randint(1,3)\n",
    "            else:\n",
    "                pastAttacks = np.random.randint(2,6)\n",
    "\n",
    "            data.append([\n",
    "                age, gender, heartRateAvg, restingHeartRate, steps, sleepHours,\n",
    "                exerciseMinutes, pastAttacks, smoking, familyHistory, risk_label\n",
    "            ])\n",
    "\n",
    "    columns = [\n",
    "        \"age\",\"gender\",\"heartRateAvg\",\"restingHeartRate\",\"steps\",\"sleepHours\",\n",
    "        \"exerciseMinutes\",\"pastAttacks\",\"smoking\",\"familyHistory\",\"risk\"\n",
    "    ]\n",
    "    df = pd.DataFrame(data, columns=columns)\n",
    "    df = df.sample(frac=1, random_state=42).reset_index(drop=True)\n",
    "    return df"
   ]
  },
  {
   "cell_type": "code",
   "execution_count": 3,
   "id": "ff7ad485-ce63-453b-bdd8-3d8675ce5fb8",
   "metadata": {
    "tags": []
   },
   "outputs": [],
   "source": [
    "# veri setini üretir\n",
    "df = generate_realistic_balanced_dataset(10000)"
   ]
  },
  {
   "cell_type": "code",
   "execution_count": 4,
   "id": "58e2df82-3147-4eeb-9a1c-42fa16aa0226",
   "metadata": {
    "tags": []
   },
   "outputs": [],
   "source": [
    "df.to_csv(\"applewatch_heart_risk_3class.csv\", index=False)"
   ]
  },
  {
   "cell_type": "code",
   "execution_count": 5,
   "id": "e08ed10c-631e-4e08-9e83-5ffc37154f44",
   "metadata": {
    "tags": []
   },
   "outputs": [
    {
     "name": "stdout",
     "output_type": "stream",
     "text": [
      "1    3333\n",
      "2    3333\n",
      "0    3333\n",
      "Name: risk, dtype: int64\n"
     ]
    }
   ],
   "source": [
    "print(df[\"risk\"].value_counts())"
   ]
  },
  {
   "cell_type": "code",
   "execution_count": null,
   "id": "e65b5df5-ffe7-40d9-b5df-3906411ad720",
   "metadata": {},
   "outputs": [],
   "source": []
  }
 ],
 "metadata": {
  "kernelspec": {
   "display_name": "Python 3 (ipykernel)",
   "language": "python",
   "name": "python3"
  },
  "language_info": {
   "codemirror_mode": {
    "name": "ipython",
    "version": 3
   },
   "file_extension": ".py",
   "mimetype": "text/x-python",
   "name": "python",
   "nbconvert_exporter": "python",
   "pygments_lexer": "ipython3",
   "version": "3.11.3"
  }
 },
 "nbformat": 4,
 "nbformat_minor": 5
}
